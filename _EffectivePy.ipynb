{
  "nbformat": 4,
  "nbformat_minor": 0,
  "metadata": {
    "colab": {
      "provenance": []
    },
    "kernelspec": {
      "name": "python3",
      "display_name": "Python 3"
    },
    "language_info": {
      "name": "python"
    }
  },
  "cells": [
    {
      "cell_type": "markdown",
      "source": [
        "## f-String을 사용하기"
      ],
      "metadata": {
        "id": "mdnHkXLfYFqS"
      }
    },
    {
      "cell_type": "code",
      "source": [
        "key = 'my_var'\n",
        "value = 1.234\n",
        "\n",
        "formatted = f'{key} = {value}'\n",
        "print(formatted)"
      ],
      "metadata": {
        "colab": {
          "base_uri": "https://localhost:8080/"
        },
        "id": "P3UPa_b3ZlJV",
        "outputId": "1d28d2f8-68e0-429b-b7db-0afb44d09e7a"
      },
      "execution_count": 1,
      "outputs": [
        {
          "output_type": "stream",
          "name": "stdout",
          "text": [
            "my_var = 1.234\n"
          ]
        }
      ]
    },
    {
      "cell_type": "markdown",
      "source": [],
      "metadata": {
        "id": "0bdRzaMmbdEK"
      }
    },
    {
      "cell_type": "code",
      "source": [
        "places = 3\n",
        "number = 1.23456\n",
        "print(f'내가 고른 숫자는 {number:.{places}f}')"
      ],
      "metadata": {
        "colab": {
          "base_uri": "https://localhost:8080/"
        },
        "id": "J03Lv9TNbAzz",
        "outputId": "c9238d76-efeb-4242-c4f2-d95a0725ff4d"
      },
      "execution_count": 2,
      "outputs": [
        {
          "output_type": "stream",
          "name": "stdout",
          "text": [
            "내가 고른 숫자는 1.235\n"
          ]
        }
      ]
    },
    {
      "cell_type": "markdown",
      "source": [
        "## 인덱스를 사용하는 대신 대입을 사용해 데이터를 언패킹하라."
      ],
      "metadata": {
        "id": "jb0FLriwc9yU"
      }
    },
    {
      "cell_type": "code",
      "source": [
        "snack_calories = {\n",
        "    '감자칩': 140,\n",
        "    '팝콘': 80,\n",
        "    '땅콩': 190,\n",
        "}\n",
        "\n",
        "items = tuple(snack_calories)\n",
        "print(items)"
      ],
      "metadata": {
        "colab": {
          "base_uri": "https://localhost:8080/"
        },
        "id": "-Yoytw5qdCqE",
        "outputId": "934dbec8-a645-455a-f98f-1472208be5f4"
      },
      "execution_count": 3,
      "outputs": [
        {
          "output_type": "stream",
          "name": "stdout",
          "text": [
            "('감자칩', '팝콘', '땅콩')\n"
          ]
        }
      ]
    },
    {
      "cell_type": "code",
      "source": [
        "item = ('호박엿', '식혜')\n",
        "first =  item[0]\n",
        "second = item[1]\n",
        "print(first,'&', second)"
      ],
      "metadata": {
        "colab": {
          "base_uri": "https://localhost:8080/"
        },
        "id": "A-nTgsj0dXif",
        "outputId": "661aa5b4-4d11-4c20-9fdb-c3898804d38b"
      },
      "execution_count": 4,
      "outputs": [
        {
          "output_type": "stream",
          "name": "stdout",
          "text": [
            "호박엿 & 식혜\n"
          ]
        }
      ]
    },
    {
      "cell_type": "code",
      "source": [
        "# 언팩킹하기\n",
        "first, second = item\n",
        "print(first)\n",
        "print(second)"
      ],
      "metadata": {
        "colab": {
          "base_uri": "https://localhost:8080/"
        },
        "id": "tEZPdjnWdzBA",
        "outputId": "dc873058-2f7d-41f0-b0f8-d8a9e94aa766"
      },
      "execution_count": 5,
      "outputs": [
        {
          "output_type": "stream",
          "name": "stdout",
          "text": [
            "호박엿\n",
            "식혜\n"
          ]
        }
      ]
    },
    {
      "cell_type": "code",
      "source": [
        "\n",
        "snacks = [('베이컨', 350), ('도넛', 240), ('머핀', 190)]\n",
        "\n",
        "for i in range(len(snacks)):\n",
        "  item = snacks[i]\n",
        "  name = item[0]\n",
        "  calories = item[1]\n",
        "  print(f'#{i+1}: {name}은 {calories}이다.')"
      ],
      "metadata": {
        "colab": {
          "base_uri": "https://localhost:8080/"
        },
        "id": "GU3a_k2NeLsr",
        "outputId": "e926aff0-f71a-4f08-da35-43ee1d79d2b6"
      },
      "execution_count": 6,
      "outputs": [
        {
          "output_type": "stream",
          "name": "stdout",
          "text": [
            "#1: 베이컨은 350이다.\n",
            "#2: 도넛은 240이다.\n",
            "#3: 머핀은 190이다.\n"
          ]
        }
      ]
    },
    {
      "cell_type": "code",
      "source": [
        "# 위의 for문 방식을 개선하기(enumerate사용하기) -> range보다 enumerate를 사용하라.\n",
        "for rank, (name, calories) in enumerate(snacks, 1): # 두 번째 인자 1은 몇부터 시작할지 정하는 옵션\n",
        "  print(f'#{rank}: {name}은 {calories}이다.')"
      ],
      "metadata": {
        "colab": {
          "base_uri": "https://localhost:8080/"
        },
        "id": "HSa1VZCxfcgk",
        "outputId": "5995e6c1-53ec-45f9-af44-25596e9330a3"
      },
      "execution_count": 7,
      "outputs": [
        {
          "output_type": "stream",
          "name": "stdout",
          "text": [
            "#1: 베이컨은 350이다.\n",
            "#2: 도넛은 240이다.\n",
            "#3: 머핀은 190이다.\n"
          ]
        }
      ]
    },
    {
      "cell_type": "markdown",
      "source": [
        "## range보다 enumerate를 사용하라.\n"
      ],
      "metadata": {
        "id": "gr-NxVnHgQ-4"
      }
    },
    {
      "cell_type": "code",
      "source": [
        "flavor_list = ['바닐라', '초콜릿', '피칸', '딸기']\n",
        "\n",
        "for flavor in flavor_list:\n",
        "  print(f'{flavor}가 맛있어요.')"
      ],
      "metadata": {
        "colab": {
          "base_uri": "https://localhost:8080/"
        },
        "id": "lbv_uASFg48i",
        "outputId": "0bc0f2b0-a749-4127-f902-abbf42733aa4"
      },
      "execution_count": 8,
      "outputs": [
        {
          "output_type": "stream",
          "name": "stdout",
          "text": [
            "바닐라가 맛있어요.\n",
            "초콜릿가 맛있어요.\n",
            "피칸가 맛있어요.\n",
            "딸기가 맛있어요.\n"
          ]
        }
      ]
    },
    {
      "cell_type": "code",
      "source": [
        "# 요소와 인덱스 같이 출력하기\n",
        "for i, flavor in enumerate(flavor_list):\n",
        "  print(f'#{i}: {flavor}가 맛있어요.')"
      ],
      "metadata": {
        "colab": {
          "base_uri": "https://localhost:8080/"
        },
        "id": "YTSz97N0hNXH",
        "outputId": "8559a035-3eda-43eb-a9cb-1488b1099d95"
      },
      "execution_count": 9,
      "outputs": [
        {
          "output_type": "stream",
          "name": "stdout",
          "text": [
            "#0: 바닐라가 맛있어요.\n",
            "#1: 초콜릿가 맛있어요.\n",
            "#2: 피칸가 맛있어요.\n",
            "#3: 딸기가 맛있어요.\n"
          ]
        }
      ]
    },
    {
      "cell_type": "code",
      "source": [
        "# 내장함수 next를 사용하여 다음 원소가져오기\n",
        "it = enumerate(flavor_list)\n",
        "print(next(it))\n",
        "print(next(it))\n",
        "print(next(it))"
      ],
      "metadata": {
        "colab": {
          "base_uri": "https://localhost:8080/"
        },
        "id": "h-XHE4ymhqLk",
        "outputId": "4ea27aa8-2405-4c95-c64b-90125d75ca82"
      },
      "execution_count": 10,
      "outputs": [
        {
          "output_type": "stream",
          "name": "stdout",
          "text": [
            "(0, '바닐라')\n",
            "(1, '초콜릿')\n",
            "(2, '피칸')\n"
          ]
        }
      ]
    },
    {
      "cell_type": "code",
      "source": [
        "# enumerate 두 번째 옵션을 사용하여 시작점 정하기\n",
        "for i, flavor in enumerate(flavor_list,2):\n",
        "  print(f'#{i}번째: {flavor}가 맛있어요.')"
      ],
      "metadata": {
        "colab": {
          "base_uri": "https://localhost:8080/"
        },
        "id": "Z_5VnL74h6zc",
        "outputId": "2ea66622-6753-43aa-994f-c7df308f2194"
      },
      "execution_count": 11,
      "outputs": [
        {
          "output_type": "stream",
          "name": "stdout",
          "text": [
            "#2번째: 바닐라가 맛있어요.\n",
            "#3번째: 초콜릿가 맛있어요.\n",
            "#4번째: 피칸가 맛있어요.\n",
            "#5번째: 딸기가 맛있어요.\n"
          ]
        }
      ]
    },
    {
      "cell_type": "markdown",
      "source": [
        "## zip을 사용하여 여러 이터레이터에 대해 나란히 루프를 사용해라."
      ],
      "metadata": {
        "id": "SkwNKB74ihtj"
      }
    },
    {
      "cell_type": "code",
      "source": [
        "# 전\n",
        "names = ['박경원', '마이클조던', '조코비치']\n",
        "counts = [len(n) for n in names]\n",
        "print(counts)"
      ],
      "metadata": {
        "colab": {
          "base_uri": "https://localhost:8080/"
        },
        "id": "IzhVaXiUjRTA",
        "outputId": "b1f78a42-5c4f-4856-f008-6608ad7af007"
      },
      "execution_count": 12,
      "outputs": [
        {
          "output_type": "stream",
          "name": "stdout",
          "text": [
            "[3, 5, 4]\n"
          ]
        }
      ]
    },
    {
      "cell_type": "code",
      "source": [
        "# 전 (가장 긴 이름 뽑기)\n",
        "longest_name = None\n",
        "max_count = 0\n",
        "\n",
        "for i in range(len(names)):\n",
        "  count = len(names[i])\n",
        "  if count > max_count:\n",
        "    longest_name = names[i]\n",
        "    max_count = count\n",
        "\n",
        "print(f'가장 긴 이름은 {longest_name}')"
      ],
      "metadata": {
        "colab": {
          "base_uri": "https://localhost:8080/"
        },
        "id": "qaD-RYXHjvOV",
        "outputId": "e56ade9c-55d0-4f30-f1c1-e390b1e54d12"
      },
      "execution_count": 13,
      "outputs": [
        {
          "output_type": "stream",
          "name": "stdout",
          "text": [
            "가장 긴 이름은 마이클조던\n"
          ]
        }
      ]
    },
    {
      "cell_type": "code",
      "source": [
        "# 위를 enumerate방식으로 쓴다면\n",
        "for i, name in enumerate(names):\n",
        "  count = counts[i]\n",
        "  if count > max_count:\n",
        "    longest_name = name\n",
        "    max_count = count\n",
        "print(f'가장 긴 이름은 {longest_name}')"
      ],
      "metadata": {
        "colab": {
          "base_uri": "https://localhost:8080/"
        },
        "id": "duZBXV3lk-qt",
        "outputId": "402900eb-0925-40c8-9d32-9ee0e0737af3"
      },
      "execution_count": 14,
      "outputs": [
        {
          "output_type": "stream",
          "name": "stdout",
          "text": [
            "가장 긴 이름은 마이클조던\n"
          ]
        }
      ]
    },
    {
      "cell_type": "code",
      "source": [
        "# 위를 더 깔끔하게 zip으로 가능하다.\n",
        "for name, count in zip(names, counts):\n",
        "  if count > max_count:\n",
        "    max_count = count\n",
        "    longest_name = name\n",
        "\n",
        "print(f'가장 긴 이름은 {longest_name}')"
      ],
      "metadata": {
        "colab": {
          "base_uri": "https://localhost:8080/"
        },
        "id": "Sz-vvETOmd_E",
        "outputId": "fc92f962-e1da-43ce-83fe-6247e645be7a"
      },
      "execution_count": 15,
      "outputs": [
        {
          "output_type": "stream",
          "name": "stdout",
          "text": [
            "가장 긴 이름은 마이클조던\n"
          ]
        }
      ]
    },
    {
      "cell_type": "markdown",
      "source": [
        "## 슬라이싱보다는 나머지를 모두 잡아내는 언패킹을 사용하라.\n"
      ],
      "metadata": {
        "id": "YfVPxpq5mkCv"
      }
    },
    {
      "cell_type": "code",
      "source": [
        "car_ages = [0, 9, 4, 8, 7, 20, 19, 1, 6, 15]\n",
        "car_ages_decending = sorted(car_ages, reverse=True)\n",
        "oldest, second_oldest, *others = car_ages_decending # *starred expression은 나머지 값을 변수에 담을 수 있게 한다.\n",
        "print(f'가장 오래된 수: {oldest}, 두 번째는 {second_oldest}, 그 외 나머지는 {others}이다.')\n"
      ],
      "metadata": {
        "colab": {
          "base_uri": "https://localhost:8080/"
        },
        "id": "3QmqT-yntuaR",
        "outputId": "fef4cfdb-4f6f-4c7d-a2e3-edfe6552b2e4"
      },
      "execution_count": 16,
      "outputs": [
        {
          "output_type": "stream",
          "name": "stdout",
          "text": [
            "가장 오래된 수: 20, 두 번째는 19, 그 외 나머지는 [15, 9, 8, 7, 6, 4, 1, 0]이다.\n"
          ]
        }
      ]
    },
    {
      "cell_type": "code",
      "source": [
        "# starred expression을 마지막이 아닌 다른 위치에도 쓸 수 있다.\n",
        "oldest, *othesrs, youngest = car_ages_decending\n",
        "print(f'가장 오랜된 연식은 {oldest}이고, 나머지는 {others}, 가장 짧은 연식은 {youngest}이다.')"
      ],
      "metadata": {
        "colab": {
          "base_uri": "https://localhost:8080/"
        },
        "id": "EQw2cCy3uI6W",
        "outputId": "b9dd96a3-5d9b-432a-f9b0-10a2a609164b"
      },
      "execution_count": 17,
      "outputs": [
        {
          "output_type": "stream",
          "name": "stdout",
          "text": [
            "가장 오랜된 연식은 20이고, 나머지는 [15, 9, 8, 7, 6, 4, 1, 0], 가장 짧은 연식은 0이다.\n"
          ]
        }
      ]
    },
    {
      "cell_type": "markdown",
      "source": [
        "## 함수가 여러 값을 반환하는 경우 절대로 네 값 이상을 언패킹하지 말라."
      ],
      "metadata": {
        "id": "TDfGg9x0xLEU"
      }
    },
    {
      "cell_type": "code",
      "source": [
        "def get_stats(number):\n",
        "  minimum = min(number)\n",
        "  maximum = max(number)\n",
        "\n",
        "  return minimum, maximum"
      ],
      "metadata": {
        "id": "w-9iuJ87yWl1"
      },
      "execution_count": 18,
      "outputs": []
    },
    {
      "cell_type": "code",
      "source": [
        "list = [2, 4, 10, 1, 4, 8]\n",
        "a, b =get_stats(list)\n",
        "print(a, b)"
      ],
      "metadata": {
        "colab": {
          "base_uri": "https://localhost:8080/"
        },
        "id": "8Gg76jpeykE2",
        "outputId": "d4093d53-27e3-465e-d5fb-03c840b42e0b"
      },
      "execution_count": 19,
      "outputs": [
        {
          "output_type": "stream",
          "name": "stdout",
          "text": [
            "1 10\n"
          ]
        }
      ]
    },
    {
      "cell_type": "code",
      "source": [
        "# 언패킹 문과 여러 값을 반환하는 함수가 어떻게 같은 방식으로 작동하는지 보여주는 더 간단한 예다.\n",
        "first, second = 1, 2\n",
        "assert first == 1\n",
        "assert second == 2"
      ],
      "metadata": {
        "id": "81WtPznLyxnB"
      },
      "execution_count": 21,
      "outputs": []
    },
    {
      "cell_type": "code",
      "source": [
        "def my_function():\n",
        "  return 1, 2\n",
        "\n",
        "first, second = my_function()\n",
        "assert first == 1\n",
        "assert second == 2"
      ],
      "metadata": {
        "id": "PRcK9a1fzI4b"
      },
      "execution_count": 23,
      "outputs": []
    },
    {
      "cell_type": "code",
      "source": [
        "#get stats의 확장\n",
        "def get_stats(numbers):\n",
        "  minimum = min(numbers)\n",
        "  maximum = max(numbers)\n",
        "  count = len(numbers)\n",
        "  avg = sum(numbers) / count\n",
        "\n",
        "  sorted_numbers = sorted(numbers)\n",
        "  middle = count // 2\n",
        "  if count % 2 == 0:\n",
        "    lower = sorted_numbers[middle-1]\n",
        "    upper = sorted_numbers[middle]\n",
        "    median = (lower + upper) / 2\n",
        "  else:\n",
        "    median = sorted_numbers[middle]\n",
        "\n",
        "  return minimum, maximum, count, avg, median"
      ],
      "metadata": {
        "id": "FSFhasedzbau"
      },
      "execution_count": 24,
      "outputs": []
    },
    {
      "cell_type": "code",
      "source": [
        "min, max, count, avg, median = get_stats(list)\n",
        "print(f'최소 길이는 {min}, 최대 길이는 {max}, 개수는 {count}, 평균은 {avg}, 중앙값은 {median}이다.')"
      ],
      "metadata": {
        "colab": {
          "base_uri": "https://localhost:8080/"
        },
        "id": "sU7TbZKo06lT",
        "outputId": "65a35858-78ae-4caf-f8f7-e5d70a4e7325"
      },
      "execution_count": 25,
      "outputs": [
        {
          "output_type": "stream",
          "name": "stdout",
          "text": [
            "최소 길이는 1, 최대 길이는 10, 개수는 6, 평균은 4.833333333333333, 중앙값은 4.0이다.\n"
          ]
        }
      ]
    },
    {
      "cell_type": "markdown",
      "source": [
        "#### 함수가 여러 값을 반환하거나 언패킹할 때 값이나 변수를 네 개 이상 사용하면 안된다.(즉, 값을 3개까지 쓸 수 있다.) 실수하기 쉽다."
      ],
      "metadata": {
        "id": "fC_zIAQ_1XtZ"
      }
    },
    {
      "cell_type": "markdown",
      "source": [
        "## 키워드 인자로 선택적인 기능을 제공하라."
      ],
      "metadata": {
        "id": "gQNhjwOJ2KCF"
      }
    },
    {
      "cell_type": "code",
      "source": [
        "def remainder(number, divisor):\n",
        "  return number % divisor\n",
        "\n",
        "my_kwargs= {\n",
        "    'number': 20,\n",
        "    'divisor': 7,\n",
        "}\n",
        "\n",
        "assert remainder(**my_kwargs) == 6"
      ],
      "metadata": {
        "id": "9jByJq18kENi"
      },
      "execution_count": 1,
      "outputs": []
    },
    {
      "cell_type": "markdown",
      "source": [
        "**연산자를 위치인자나 키워드 인자와 섞어서 함수를 호출할 수 있다. 다만 중복되는 인자가 없어야 한다."
      ],
      "metadata": {
        "id": "TfrGrz3xmDzv"
      }
    },
    {
      "cell_type": "code",
      "source": [
        "my_kwargs = {\n",
        "    'divisor' : 7,\n",
        "}\n",
        "assert remainder(number=20, **my_kwargs) == 6"
      ],
      "metadata": {
        "id": "1UcaS8gPmov4"
      },
      "execution_count": 2,
      "outputs": []
    },
    {
      "cell_type": "markdown",
      "source": [
        "아무 키워드 인자나 받는 함수를 만드로 싶다면, 모든 키워드 인자를 dict에 모아주는 **kwargs라는 파라미터를 사용한다."
      ],
      "metadata": {
        "id": "rcVUtCHwm7Sb"
      }
    },
    {
      "cell_type": "code",
      "source": [
        "def print_parameters(**kwargs):\n",
        "  for key, value in kwargs.items():\n",
        "    print(f'{key} = {value}')\n",
        "\n",
        "print_parameters(alpha=1.5, beta=9, 감마=4) # 한글파라미터도 잘 작동함."
      ],
      "metadata": {
        "colab": {
          "base_uri": "https://localhost:8080/"
        },
        "id": "UmGwg4Zjo0cJ",
        "outputId": "353cc4c5-2a0c-49a8-ca9c-8bde660bd661"
      },
      "execution_count": 3,
      "outputs": [
        {
          "output_type": "stream",
          "name": "stdout",
          "text": [
            "alpha = 1.5\n",
            "beta = 9\n",
            "감마 = 4\n"
          ]
        }
      ]
    },
    {
      "cell_type": "markdown",
      "source": [
        "#### 키워드 인자 사용의 장점\n",
        "1. 코드를 처음 보는 사람들에게 함수 호출의 의미를 명확히 알려줄 수 있다.  \n",
        "2. 함수 정의에서 디폴트 값을 지정할 수 있다. 따라서 필요할 때는 원하는 함수 인자를 설정할 수 있는 기능을 제공하지만 그렇지 않은 경우에는 디폴트 동작을 그대로 받아들여도 된다.  \n",
        "(다음 코드에서 보자.)"
      ],
      "metadata": {
        "id": "DVxVAHDVpCH9"
      }
    },
    {
      "cell_type": "code",
      "source": [
        "#기본\n",
        "def flow_rate(weight_diff, time_diff):\n",
        "  return weight_diff, time_diff\n",
        "\n",
        "weight_diff = 0.5\n",
        "time_diff = 3\n",
        "flow = flow_rate(weight_diff, time_diff)\n",
        "# print(f'{flow:.3} kg/s')\n"
      ],
      "metadata": {
        "id": "guEKZ9b0rCuf"
      },
      "execution_count": 4,
      "outputs": []
    },
    {
      "cell_type": "code",
      "source": [
        "# 여기에 파라미터 period가 추가된다.\n",
        "def flow_rate(weight_diff, time_diff, period):\n",
        "  return (weight_diff/time_diff) * period\n",
        "#이렇게 바꾼 함수를 호출하려면 매번 period인자를 던져줘야 하는데 이를 디폴트 값으로 지정해줄 수 있다.\n"
      ],
      "metadata": {
        "id": "qsLX-nj3rgbh"
      },
      "execution_count": 5,
      "outputs": []
    },
    {
      "cell_type": "code",
      "source": [
        "#후\n",
        "def flow_rate(weight_diff, time_diff, period=1):\n",
        "  return (weight_diff/time_diff) * period\n",
        "# 이렇게 함으로써 period는 선택적 인자가 된다.(따로 쓰지 않아도 period는 1이 들어간다.)"
      ],
      "metadata": {
        "id": "Psf4tbFKsC4g"
      },
      "execution_count": 6,
      "outputs": []
    },
    {
      "cell_type": "markdown",
      "source": [
        "## None과 독스트링을 사용해 동적인 디폴트 인자를 지정하라.\n",
        "종종 키워드 인자의 값으로 정적으로 정해지지 않는 타입의 값을 써야 할 때가 있다.  \n",
        "예시를 보자."
      ],
      "metadata": {
        "id": "iZWe8xJksWtf"
      }
    },
    {
      "cell_type": "code",
      "source": [
        "from time import sleep\n",
        "from datetime import datetime\n",
        "\n",
        "def log(message, when=datetime.now()):\n",
        "  print(f'{when}: {message}')\n",
        "\n",
        "log('안녕!')\n",
        "sleep(0.1)\n",
        "log('다시 안녕!')"
      ],
      "metadata": {
        "colab": {
          "base_uri": "https://localhost:8080/"
        },
        "id": "1vYgpHByuNkM",
        "outputId": "649ecdea-9501-4e42-f59f-e573be6200d9"
      },
      "execution_count": 8,
      "outputs": [
        {
          "output_type": "stream",
          "name": "stdout",
          "text": [
            "2024-01-31 03:50:14.486548: 안녕!\n",
            "2024-01-31 03:50:14.486548: 다시 안녕!\n"
          ]
        }
      ]
    },
    {
      "cell_type": "markdown",
      "source": [
        "위의 상황을 시간에 맞게 로그가 찍혀야하지만 출력은 같은 시간으로 나온다.  \n",
        "datetime.now()가 단 한번만 호출되기 때문에 타임스탬프가 항상 같다.  \n",
        "(디폴트 인자의 값은 모듈이 로드될 때 단 한 번만 평가됨.)\n",
        "\n",
        "다음과 같이 수정할 수 있다."
      ],
      "metadata": {
        "id": "WYsaq8XxujB8"
      }
    },
    {
      "cell_type": "code",
      "source": [
        "def log(message, when=None):\n",
        "  \"\"\"메시지와 타임스탬프를 로그에 남긴다.\n",
        "\n",
        "  Args:\n",
        "    message: 출력할 메시지.\n",
        "    when: 메시지가 발생한 시각\n",
        "      디폴트 값은 현재 시간이다.\n",
        "  \"\"\"\n",
        "  if when is None:\n",
        "    when = datetime.now()\n",
        "  print(f'{when}: {message}')\n",
        "\n",
        "log('안녕!')\n",
        "sleep(0.1)\n",
        "log('다시 안녕!')"
      ],
      "metadata": {
        "colab": {
          "base_uri": "https://localhost:8080/"
        },
        "id": "WG_x6OhUu9DQ",
        "outputId": "12b3639e-607b-4606-88d4-1779cecebd7c"
      },
      "execution_count": 9,
      "outputs": [
        {
          "output_type": "stream",
          "name": "stdout",
          "text": [
            "2024-01-31 03:53:44.189932: 안녕!\n",
            "2024-01-31 03:53:44.290580: 다시 안녕!\n"
          ]
        }
      ]
    },
    {
      "cell_type": "markdown",
      "source": [
        "현재 시간이 잘 출력되는 것을 볼 수 있다."
      ],
      "metadata": {
        "id": "YckmL-RavewX"
      }
    },
    {
      "cell_type": "markdown",
      "source": [
        "# functools.wrap을 사용해 함수 데코레이터를 정의하라."
      ],
      "metadata": {
        "id": "4XPoUKNSvwnK"
      }
    },
    {
      "cell_type": "markdown",
      "source": [
        "파이썬은 함수에 적용할 수 있는 데코레이터를 정의하는 특별한 구문을 제공한다.  \n",
        "데코레이터는 자신이 감싸고 있는 함수가 호툴되기 전과 후에 코드를 추가로 실행해준다.  \n"
      ],
      "metadata": {
        "id": "6RrAlQynEqyl"
      }
    },
    {
      "cell_type": "markdown",
      "source": [
        "# 컴프리헨션과 제너레이터\n"
      ],
      "metadata": {
        "id": "51OmIxl1Fs7O"
      }
    },
    {
      "cell_type": "code",
      "source": [
        "#case1\n",
        "a = [1, 2, 3, 4, 5, 6, 7, 8, 9, 10]\n",
        "\n",
        "squares = [x**2 for x in a]\n",
        "print(squares)"
      ],
      "metadata": {
        "colab": {
          "base_uri": "https://localhost:8080/"
        },
        "id": "VNY4XEOKFwD5",
        "outputId": "94215aba-d22d-439c-db5c-0607afb09f38"
      },
      "execution_count": 1,
      "outputs": [
        {
          "output_type": "stream",
          "name": "stdout",
          "text": [
            "[1, 4, 9, 16, 25, 36, 49, 64, 81, 100]\n"
          ]
        }
      ]
    },
    {
      "cell_type": "code",
      "source": [
        "#case2\n",
        "even_squares = [x**2 for x in a if x % 2==0]\n",
        "print(even_squares)"
      ],
      "metadata": {
        "colab": {
          "base_uri": "https://localhost:8080/"
        },
        "id": "VoMdQWhkGyxI",
        "outputId": "1891d16d-bf6e-4477-85f4-40cd82b01bd8"
      },
      "execution_count": 2,
      "outputs": [
        {
          "output_type": "stream",
          "name": "stdout",
          "text": [
            "[4, 16, 36, 64, 100]\n"
          ]
        }
      ]
    },
    {
      "cell_type": "code",
      "source": [
        "#딕셔러리 컴프리헨션\n",
        "even_squares_dict = {x: x**2 for x in a if x % 2 == 0}\n",
        "print(even_squares_dict)"
      ],
      "metadata": {
        "colab": {
          "base_uri": "https://localhost:8080/"
        },
        "id": "dDukhajwHdJZ",
        "outputId": "0761299a-65df-48b3-8c1c-035c9d576827"
      },
      "execution_count": 3,
      "outputs": [
        {
          "output_type": "stream",
          "name": "stdout",
          "text": [
            "{2: 4, 4: 16, 6: 36, 8: 64, 10: 100}\n"
          ]
        }
      ]
    },
    {
      "cell_type": "code",
      "source": [
        "#셋 컴프리헨션\n",
        "threes_cubed_set = {x**3 for x in a if x % 3 == 0}\n",
        "print(threes_cubed_set)"
      ],
      "metadata": {
        "colab": {
          "base_uri": "https://localhost:8080/"
        },
        "id": "DbLRAa4DH8Zj",
        "outputId": "f13fa4a0-357f-432f-b332-a5b42cc6d851"
      },
      "execution_count": 4,
      "outputs": [
        {
          "output_type": "stream",
          "name": "stdout",
          "text": [
            "{216, 729, 27}\n"
          ]
        }
      ]
    },
    {
      "cell_type": "markdown",
      "source": [
        "정리)  \n",
        "- 리스트컴프리헨션은 lambda 식을 사용하디 않기 때문에 같은 일을 하는 map과 filter 내장 함수를 사용하는 것보다 더 명확하다.  \n",
        "- 리스트 컴프리헨션을 사용하면 쉽게 입력 리스트의 원소를 건너뛸 수 있다. 하지만 map을 사용하는 경우에는 filter의 도움을 받아야만 한다.  \n",
        "- 딕셔너리와 set도 컴프리헨션으로 만들 수 있다.\n"
      ],
      "metadata": {
        "id": "-Tm7G24VIScu"
      }
    },
    {
      "cell_type": "markdown",
      "source": [
        "# 대입식을 사용해 컴프리헨션 안에서 반복 작업을 피하라.\n"
      ],
      "metadata": {
        "id": "tEN_NJ9AJhX8"
      }
    },
    {
      "cell_type": "code",
      "source": [
        "stock = {\n",
        "    '못': 125,\n",
        "    '나사못': 35,\n",
        "    '나비너트': 8,\n",
        "    '와셔': 24,\n",
        "}\n",
        "\n",
        "order = ['나사못', '나비너트', '클립']\n",
        "\n",
        "def get_batches(count, size):\n",
        "  return count//size"
      ],
      "metadata": {
        "id": "UGNbjzU1LGSl"
      },
      "execution_count": 5,
      "outputs": []
    },
    {
      "cell_type": "code",
      "source": [
        "result ={}\n",
        "for name in order:\n",
        "  count = stock.get(name, 0)\n",
        "  batches = get_batches(count, 8)\n",
        "  if batches:\n",
        "    result[name] = batches\n",
        "\n",
        "print(result)"
      ],
      "metadata": {
        "colab": {
          "base_uri": "https://localhost:8080/"
        },
        "id": "t3Q6yD-MLOJD",
        "outputId": "95c4a9e8-87c8-415e-95c3-72bc8355650b"
      },
      "execution_count": 6,
      "outputs": [
        {
          "output_type": "stream",
          "name": "stdout",
          "text": [
            "{'나사못': 4, '나비너트': 1}\n"
          ]
        }
      ]
    },
    {
      "cell_type": "markdown",
      "source": [
        "#### 여기서 딕셔너리 컴프리헨션을 사용하면 이 루프의 로직을 더 간결하게 표현할 수 있다."
      ],
      "metadata": {
        "id": "_Ho2s9lDL1cR"
      }
    },
    {
      "cell_type": "code",
      "source": [
        "found = {name: get_batches(stock.get(name, 0), 8) for name in order if get_batches(stock.get(name, 0), 8)}\n",
        "\n",
        "print(found)"
      ],
      "metadata": {
        "colab": {
          "base_uri": "https://localhost:8080/"
        },
        "id": "vtiTRgIJMXwy",
        "outputId": "d4b5ebe1-0b13-479e-d53e-de144fd8ecdc"
      },
      "execution_count": 7,
      "outputs": [
        {
          "output_type": "stream",
          "name": "stdout",
          "text": [
            "{'나사못': 4, '나비너트': 1}\n"
          ]
        }
      ]
    },
    {
      "cell_type": "markdown",
      "source": [
        "위 방법에서 코드가 짧아지는 것을 볼 수 있지만 get_batches가 반복된다. 다음처럼 변경해보자."
      ],
      "metadata": {
        "id": "6IkflYD2NWnB"
      }
    },
    {
      "cell_type": "code",
      "source": [
        "found = {name: batches for name in order if(batches := get_batches(stock.get(name, 0), 8))} # 파이썬 3.8에서 :=왈러스 연산자 사용 가능"
      ],
      "metadata": {
        "id": "vTt4cYtQPaxb"
      },
      "execution_count": 8,
      "outputs": []
    },
    {
      "cell_type": "markdown",
      "source": [
        "(batches := get_batches(...)을 사용하면 stock 딕셔너리에서 각 order 키를 한 번만 조회하고 get_batches를 한 번만 호출해서 그결과를 batches 변수에 저장할 수 있다."
      ],
      "metadata": {
        "id": "gVwuqBf7PuWp"
      }
    },
    {
      "cell_type": "code",
      "source": [
        "result = {name: (tenth := count//10) for name, count in stock.items() if tenth > 0} #일부러 에러 발생시킴"
      ],
      "metadata": {
        "colab": {
          "base_uri": "https://localhost:8080/",
          "height": 229
        },
        "id": "-fS3tEP9QPSj",
        "outputId": "67a84cb3-f6fc-433e-dd29-4987ba151a55"
      },
      "execution_count": 9,
      "outputs": [
        {
          "output_type": "error",
          "ename": "NameError",
          "evalue": "name 'tenth' is not defined",
          "traceback": [
            "\u001b[0;31m---------------------------------------------------------------------------\u001b[0m",
            "\u001b[0;31mNameError\u001b[0m                                 Traceback (most recent call last)",
            "\u001b[0;32m<ipython-input-9-c0205b192a05>\u001b[0m in \u001b[0;36m<cell line: 1>\u001b[0;34m()\u001b[0m\n\u001b[0;32m----> 1\u001b[0;31m \u001b[0mresult\u001b[0m \u001b[0;34m=\u001b[0m \u001b[0;34m{\u001b[0m\u001b[0mname\u001b[0m\u001b[0;34m:\u001b[0m \u001b[0;34m(\u001b[0m\u001b[0mtenth\u001b[0m \u001b[0;34m:=\u001b[0m \u001b[0mcount\u001b[0m\u001b[0;34m//\u001b[0m\u001b[0;36m10\u001b[0m\u001b[0;34m)\u001b[0m \u001b[0;32mfor\u001b[0m \u001b[0mname\u001b[0m\u001b[0;34m,\u001b[0m \u001b[0mcount\u001b[0m \u001b[0;32min\u001b[0m \u001b[0mstock\u001b[0m\u001b[0;34m.\u001b[0m\u001b[0mitems\u001b[0m\u001b[0;34m(\u001b[0m\u001b[0;34m)\u001b[0m \u001b[0;32mif\u001b[0m \u001b[0mtenth\u001b[0m \u001b[0;34m>\u001b[0m \u001b[0;36m0\u001b[0m\u001b[0;34m}\u001b[0m\u001b[0;34m\u001b[0m\u001b[0;34m\u001b[0m\u001b[0m\n\u001b[0m",
            "\u001b[0;32m<ipython-input-9-c0205b192a05>\u001b[0m in \u001b[0;36m<dictcomp>\u001b[0;34m(.0)\u001b[0m\n\u001b[0;32m----> 1\u001b[0;31m \u001b[0mresult\u001b[0m \u001b[0;34m=\u001b[0m \u001b[0;34m{\u001b[0m\u001b[0mname\u001b[0m\u001b[0;34m:\u001b[0m \u001b[0;34m(\u001b[0m\u001b[0mtenth\u001b[0m \u001b[0;34m:=\u001b[0m \u001b[0mcount\u001b[0m\u001b[0;34m//\u001b[0m\u001b[0;36m10\u001b[0m\u001b[0;34m)\u001b[0m \u001b[0;32mfor\u001b[0m \u001b[0mname\u001b[0m\u001b[0;34m,\u001b[0m \u001b[0mcount\u001b[0m \u001b[0;32min\u001b[0m \u001b[0mstock\u001b[0m\u001b[0;34m.\u001b[0m\u001b[0mitems\u001b[0m\u001b[0;34m(\u001b[0m\u001b[0;34m)\u001b[0m \u001b[0;32mif\u001b[0m \u001b[0mtenth\u001b[0m \u001b[0;34m>\u001b[0m \u001b[0;36m0\u001b[0m\u001b[0;34m}\u001b[0m\u001b[0;34m\u001b[0m\u001b[0;34m\u001b[0m\u001b[0m\n\u001b[0m",
            "\u001b[0;31mNameError\u001b[0m: name 'tenth' is not defined"
          ]
        }
      ]
    },
    {
      "cell_type": "markdown",
      "source": [
        "#### 왈러스 연산자\n",
        "대입과 평가를 한 번에 할 수 있다."
      ],
      "metadata": {
        "id": "3_6h4z--QkKJ"
      }
    },
    {
      "cell_type": "markdown",
      "source": [
        "# 리스트를 반환하기보다는 제너레이터를 사용하라.\n",
        "시퀀스 데이터를 만들어내는 함수를 만들 때 가장 간단한 선택은 원소들이 모인 리스트를 반환하는 것이다.  \n",
        "(제너레이터:)  \n",
        "제너레이터는 이터레이터를 생성해주는 함수입니다. 이터레이터는 클래스에 __iter__, __next__ 또는 __getitem__ 메서드를 구현해야 하지만 제너레이터는 함수 안에서 yield라는 키워드만 사용하면 끝입니다. 그래서 제너레이터는 이터레이터보다 훨씬 간단하게 작성할 수 있습니다."
      ],
      "metadata": {
        "id": "3FDNc8f9RR8L"
      }
    },
    {
      "cell_type": "code",
      "source": [
        "def index_words(text):\n",
        "  result = []\n",
        "  if text:\n",
        "    result.append(0)\n",
        "  for index, letter in enumerate(text):\n",
        "    if letter == ' ':\n",
        "      result.append(index+1)\n",
        "  return result\n",
        "\n",
        "#간단한 방법이다."
      ],
      "metadata": {
        "id": "G0NIadq6ZypC"
      },
      "execution_count": 10,
      "outputs": []
    },
    {
      "cell_type": "code",
      "source": [
        "address = '컴퓨터(영어: computer, 문화어: 콤퓨터, 순화어: 전산기)는 진공관'\n",
        "# #간단한 예시\n",
        "# reult = index_words(address)\n",
        "# print(result[:10])"
      ],
      "metadata": {
        "id": "1D004lUDcq9H"
      },
      "execution_count": 11,
      "outputs": []
    },
    {
      "cell_type": "code",
      "source": [
        "#하지만 코드에 잡음이 많고 핵심을 알아보기 어렵다.\n",
        "#그리고 새로운 결과를 찾을 때마다 append 메서드를 호출한다. 이 함수를 개선하는 방법은 **제너레이터**이다.\n",
        "\n",
        "def index_words_iter(text):\n",
        "  if text:\n",
        "    yield 0\n",
        "  for index, letter in enumerate(text):\n",
        "    if letter == ' ':\n",
        "      yield index +1\n",
        "'''\n",
        "yield?\n",
        "함수 안에서 yield를 사용하면 함수는 제너레이터가 되며 yield에는 값(변수)을 지정합니다.\n",
        "'''"
      ],
      "metadata": {
        "colab": {
          "base_uri": "https://localhost:8080/",
          "height": 35
        },
        "id": "_WN8BEZ_aGSo",
        "outputId": "d1ba8912-19be-48db-84ce-77c03ad79ffb"
      },
      "execution_count": 12,
      "outputs": [
        {
          "output_type": "execute_result",
          "data": {
            "text/plain": [
              "'\\nyield?\\n함수 안에서 yield를 사용하면 함수는 제너레이터가 되며 yield에는 값(변수)을 지정합니다.\\n'"
            ],
            "application/vnd.google.colaboratory.intrinsic+json": {
              "type": "string"
            }
          },
          "metadata": {},
          "execution_count": 12
        }
      ]
    },
    {
      "cell_type": "code",
      "source": [
        "it = index_words_iter(address)\n",
        "print(next(it))\n",
        "print(next(it))"
      ],
      "metadata": {
        "colab": {
          "base_uri": "https://localhost:8080/"
        },
        "id": "F_dkErcxaWA0",
        "outputId": "f2bceec1-c4b8-4c68-f634-49d8242a8a68"
      },
      "execution_count": 14,
      "outputs": [
        {
          "output_type": "stream",
          "name": "stdout",
          "text": [
            "0\n",
            "8\n"
          ]
        }
      ]
    },
    {
      "cell_type": "markdown",
      "source": [
        "반환하는 리스트와 상호작용하는 코드가 사라졌으므로 index_words_iter함수가 훨씬 읽기 쉽다.  \n",
        "대신 결과는 yield 식에 의해 전달된다."
      ],
      "metadata": {
        "id": "CIljZl81cjqD"
      }
    },
    {
      "cell_type": "code",
      "source": [
        "result = list(index_words_iter(address))\n",
        "print(result[:10])"
      ],
      "metadata": {
        "colab": {
          "base_uri": "https://localhost:8080/"
        },
        "id": "G1Kyg9kseEld",
        "outputId": "8cb953d9-bdb4-4893-d03f-3e8a1c3ee7ee"
      },
      "execution_count": null,
      "outputs": [
        {
          "output_type": "stream",
          "name": "stdout",
          "text": [
            "[0, 8, 18, 23, 28, 33, 39]\n"
          ]
        }
      ]
    },
    {
      "cell_type": "markdown",
      "source": [
        "- 제너레이터를 사용하면 결과를 리스트에 합쳐서 반환하는 것보다 더 깔끔하다.\n",
        "- 제너레이터가 반환하는 이터레이터는 제너레이터 함수의 본문에서 yield가 반환하는 값들로 이뤄진 집합을 만들어낸다.\n",
        "- 제너레이터를 사용하면 작업 메모리에 모든 입력과 출력을 저장할 필요가 없으므로 입력이 아주 커도 출력 시퀀스를 만들 수 있다."
      ],
      "metadata": {
        "id": "ke7zzS_beKU1"
      }
    },
    {
      "cell_type": "markdown",
      "source": [
        "# 긴 리스트 컴프리헨션보다는 제너레이터 식을 사용하라.\n",
        "입력 시퀀스에 크기가 커지면 메모리 문제가 될 수 있다."
      ],
      "metadata": {
        "id": "ek8iy_UryF5u"
      }
    },
    {
      "cell_type": "code",
      "source": [
        "# # ex\n",
        "# value = [len(x) for x in open('mu_file.txt')]\n",
        "# print(value) # 파일에서 읽은 x에는 새줄 문자가 들어 있으므로 길이가 눈에 보이는 길이보다 1만큼 더 길다.\n",
        "\n",
        "# # 이 문제를 해결하기 위해 파이썬은 제너레이터 식을 제공한다."
      ],
      "metadata": {
        "id": "6JuC_AEL8pSt"
      },
      "execution_count": null,
      "outputs": []
    },
    {
      "cell_type": "markdown",
      "source": [
        "## 이터레이터나 제너레이터를 다룰 때는 itertools를 사용하라.\n",
        "itertools 내장 모듈에는 여러 이터레이터를 하나로 합칠 때 쓸 수 있는 여러 함수가 들어 있다.\n",
        "\n",
        "\n",
        "\n",
        "\n"
      ],
      "metadata": {
        "id": "bXcpdRoZWsyz"
      }
    },
    {
      "cell_type": "code",
      "source": [
        "# chain\n",
        "# 여러 이터레이터를 하나의 순차적인 이터레이터로 합치고 싶을 때 chain을 사용한다.\n",
        "import itertools\n",
        "it = itertools.chain([1, 2, 3], [4, 5, 6])\n",
        "print(list(it))\n",
        "\n"
      ],
      "metadata": {
        "colab": {
          "base_uri": "https://localhost:8080/"
        },
        "id": "v3Dd3jcNX1jq",
        "outputId": "2504da8b-7011-455c-c048-2dab47b593f9"
      },
      "execution_count": 15,
      "outputs": [
        {
          "output_type": "stream",
          "name": "stdout",
          "text": [
            "[1, 2, 3, 4, 5, 6]\n"
          ]
        }
      ]
    },
    {
      "cell_type": "code",
      "source": [
        "# repeat\n",
        "# 한 값을 계속 반복해 내놓고 싶을 때 repeat을 사용한다. 이터레이터가 값을 내놓는 횟수를 제한하려면\n",
        "# repeat의 두번 째 인자로 최대 횟수를 지정하면 된다.\n",
        "it = itertools.repeat('안녕', 3)\n",
        "print(list(it))"
      ],
      "metadata": {
        "colab": {
          "base_uri": "https://localhost:8080/"
        },
        "id": "Hw1OMki5Y5NT",
        "outputId": "41cd50d7-b5d1-4926-978f-848bce8b5728"
      },
      "execution_count": 16,
      "outputs": [
        {
          "output_type": "stream",
          "name": "stdout",
          "text": [
            "['안녕', '안녕', '안녕']\n"
          ]
        }
      ]
    },
    {
      "cell_type": "code",
      "source": [
        "# cycle\n",
        "# 어떤 이터레이터가 내놓는 원소들을 계속 반복하고 싶을 때는 cycle을 사용한다.\n",
        "it = itertools.cycle([1, 2])\n",
        "result = [next(it) for _ in range(10)]\n",
        "print(result)"
      ],
      "metadata": {
        "colab": {
          "base_uri": "https://localhost:8080/"
        },
        "id": "FjV6wLdBZTMm",
        "outputId": "b943193a-8c6a-41c0-c51f-1569f0dd9054"
      },
      "execution_count": 17,
      "outputs": [
        {
          "output_type": "stream",
          "name": "stdout",
          "text": [
            "[1, 2, 1, 2, 1, 2, 1, 2, 1, 2]\n"
          ]
        }
      ]
    },
    {
      "cell_type": "code",
      "source": [
        "# tee\n",
        "# 한 이터레이터를 병렬적으로 두 번째 인자로 지정된 개수의 이터레이터로 만들고 싶을 때 사용한다.\n",
        "it1, it2, it3 = itertools.tee(['하나','둘'],3)\n",
        "print(list(it1))\n",
        "print(list(it2))\n",
        "print(list(it3))"
      ],
      "metadata": {
        "colab": {
          "base_uri": "https://localhost:8080/"
        },
        "id": "NGpTopgVaK-N",
        "outputId": "5b49b435-b011-47fa-f0b9-1affc5be1275"
      },
      "execution_count": null,
      "outputs": [
        {
          "output_type": "stream",
          "name": "stdout",
          "text": [
            "['하나', '둘']\n",
            "['하나', '둘']\n",
            "['하나', '둘']\n"
          ]
        }
      ]
    },
    {
      "cell_type": "code",
      "source": [
        "# zip_longest\n",
        "keys = ['하나', '둘', '셋']\n",
        "values = [1, 2]\n",
        "\n",
        "normal = list(zip(keys, values))\n",
        "print('zip:', normal)\n",
        "\n",
        "it = itertools.zip_longest(keys, values, fillvalue='없음')\n",
        "longest = list(it)\n",
        "print('zip_longest:', longest)"
      ],
      "metadata": {
        "colab": {
          "base_uri": "https://localhost:8080/"
        },
        "id": "b-3yl8vOc8d9",
        "outputId": "d8753b54-09bc-4e8f-8b60-eac224ff2dda"
      },
      "execution_count": null,
      "outputs": [
        {
          "output_type": "stream",
          "name": "stdout",
          "text": [
            "zip: [('하나', 1), ('둘', 2)]\n",
            "zip_longest: [('하나', 1), ('둘', 2), ('셋', '없음')]\n"
          ]
        }
      ]
    },
    {
      "cell_type": "code",
      "source": [
        "# 이터레이터에서 원소 거르기\n",
        "# islice\n",
        "values=[1, 2, 3, 4, 5, 6, 7, 8, 9, 10]\n",
        "# values2 = [x for x in range(1,11)]\n",
        "print(values)\n",
        "# print(values2)\n",
        "\n",
        "first_five = itertools.islice(values, 5)\n",
        "print('앞에서 다섯 개:', list(first_five))\n",
        "\n",
        "middle_odds = itertools.islice(values, 2, 8, 2)\n",
        "print(f'중간의 홀수들:{list(middle_odds)}')"
      ],
      "metadata": {
        "colab": {
          "base_uri": "https://localhost:8080/"
        },
        "id": "oNWGG3MMeUWk",
        "outputId": "5f880ea1-c889-45df-e4cd-462745b7acfa"
      },
      "execution_count": null,
      "outputs": [
        {
          "output_type": "stream",
          "name": "stdout",
          "text": [
            "[1, 2, 3, 4, 5, 6, 7, 8, 9, 10]\n",
            "앞에서 다섯 개: [1, 2, 3, 4, 5]\n",
            "중간의 홀수들:[3, 5, 7]\n"
          ]
        }
      ]
    },
    {
      "cell_type": "code",
      "source": [
        "# takewhile\n",
        "# 이터레터에서 주어진 술어(predicate)가 false를 반환하는 첫 원소가 나타날 때까지 원소를 돌려준다.\n",
        "values = [x for x in range(1,11)]\n",
        "less_than_seven = lambda x: x < 7\n",
        "it = itertools.takewhile(less_than_seven, values)\n",
        "print(list(it))"
      ],
      "metadata": {
        "colab": {
          "base_uri": "https://localhost:8080/"
        },
        "id": "EO40TnU7f2K7",
        "outputId": "14a64d3a-431f-45eb-e255-27e607a7be02"
      },
      "execution_count": null,
      "outputs": [
        {
          "output_type": "stream",
          "name": "stdout",
          "text": [
            "[1, 2, 3, 4, 5, 6]\n"
          ]
        }
      ]
    },
    {
      "cell_type": "code",
      "source": [
        "# dropwhile\n",
        "# 이터레이터에서 주어진 술어가 false를 반환하는 첫 원소를 찾을 때까지 이터레이터의 원소를 건너띈다.\n",
        "values = [x for x in range(1,11)]\n",
        "less_than_seven = lambda x: x < 7\n",
        "it = itertools.dropwhile(less_than_seven, values)\n",
        "print(list(it))"
      ],
      "metadata": {
        "colab": {
          "base_uri": "https://localhost:8080/"
        },
        "id": "iCW_W16UiRAL",
        "outputId": "f4850821-a007-496d-f065-efd36a470c60"
      },
      "execution_count": null,
      "outputs": [
        {
          "output_type": "stream",
          "name": "stdout",
          "text": [
            "[7, 8, 9, 10]\n"
          ]
        }
      ]
    },
    {
      "cell_type": "code",
      "source": [
        "# filterfalse\n",
        "# filterfalse는 filter 내장 함수의 반대다. 즉, 주어진 이터레이터에서 술어가 False를 반환하는 모든 원소를 돌려준다.\n",
        "\n",
        "values = [x for x in range(1,11)]\n",
        "evens = lambda x: x % 2 == 0\n",
        "filter_result = filter(evens, values)\n",
        "print('Filter:', list(filter_result))\n",
        "\n",
        "filter_false_result = itertools.filterfalse(evens, values)\n",
        "print('Filter False:', list(filter_false_result))\n"
      ],
      "metadata": {
        "colab": {
          "base_uri": "https://localhost:8080/"
        },
        "id": "D5czBxcaiqnZ",
        "outputId": "cc46fefa-ad12-4671-eaab-645505f73aa0"
      },
      "execution_count": null,
      "outputs": [
        {
          "output_type": "stream",
          "name": "stdout",
          "text": [
            "Filter: [2, 4, 6, 8, 10]\n",
            "Filter False: [1, 3, 5, 7, 9]\n"
          ]
        }
      ]
    },
    {
      "cell_type": "code",
      "source": [
        "# accumulate\n",
        "# 파라미터를 두 개 받는 함수(이항 함수)를 반복 적용하면서 이터레이터 원소를 값 하나로 줄여준다.\n",
        "values = [x for x in range(1,11)]\n",
        "sum_reduce = itertools.accumulate(values)\n",
        "print('합계:', list(sum_reduce))\n",
        "\n",
        "def sum_modulo_20(first, second):\n",
        "  output = first + second\n",
        "  return output % 20\n",
        "\n",
        "modulo_reduce = itertools.accumulate(values, sum_modulo_20)\n",
        "print('20으로 나눈 나머지의 합계:', list(modulo_reduce))"
      ],
      "metadata": {
        "colab": {
          "base_uri": "https://localhost:8080/"
        },
        "id": "zJ2Xx1WtCXUo",
        "outputId": "aff5b34e-efed-43aa-d732-8f25563561ca"
      },
      "execution_count": null,
      "outputs": [
        {
          "output_type": "stream",
          "name": "stdout",
          "text": [
            "합계: [1, 3, 6, 10, 15, 21, 28, 36, 45, 55]\n",
            "20으로 나눈 나머지의 합계: [1, 3, 6, 10, 15, 1, 8, 16, 5, 15]\n"
          ]
        }
      ]
    },
    {
      "cell_type": "code",
      "source": [
        "# product\n",
        "# 리스트컴프리핸션을 깊이 내포시키는 대신 이 함수를 사용하면 편리하다.\n",
        "single = itertools.product([1, 2], repeat=2)\n",
        "print('리스트 한 개:', list(single))\n",
        "\n",
        "multiple = itertools.product([1, 2], ['a', 'b'])\n",
        "print('리스트 두 개:', list(multiple))\n",
        "\n"
      ],
      "metadata": {
        "colab": {
          "base_uri": "https://localhost:8080/"
        },
        "id": "AR5wdjlMR8A3",
        "outputId": "bd0c3337-76b8-4670-80fd-083d12aef5c6"
      },
      "execution_count": null,
      "outputs": [
        {
          "output_type": "stream",
          "name": "stdout",
          "text": [
            "리스트 한 개: [(1, 1), (1, 2), (2, 1), (2, 2)]\n",
            "리스트 두 개: [(1, 'a'), (1, 'b'), (2, 'a'), (2, 'b')]\n"
          ]
        }
      ]
    },
    {
      "cell_type": "code",
      "source": [
        "# permutations\n",
        "# 이터레이터가 내놓는 원소들로부터 만들어낸 길이 N인 순열을 돌려준다.\n",
        "it = itertools.permutations([1, 2, 3, 4],2)\n",
        "print(list(it))"
      ],
      "metadata": {
        "colab": {
          "base_uri": "https://localhost:8080/"
        },
        "id": "Eseo3CgWSwXC",
        "outputId": "7ec9b557-2982-4b4b-acd5-8003972a3770"
      },
      "execution_count": null,
      "outputs": [
        {
          "output_type": "stream",
          "name": "stdout",
          "text": [
            "[(1, 2), (1, 3), (1, 4), (2, 1), (2, 3), (2, 4), (3, 1), (3, 2), (3, 4), (4, 1), (4, 2), (4, 3)]\n"
          ]
        }
      ]
    },
    {
      "cell_type": "code",
      "source": [
        "# combinations\n",
        "# combinations는 이터레이터가 내놓는 원소들로부터 만들어낸 길이 N인 조합을 돌려준다.\n",
        "it = itertools.combinations([1, 2, 3, 4], 2)\n",
        "print(list(it))"
      ],
      "metadata": {
        "colab": {
          "base_uri": "https://localhost:8080/"
        },
        "id": "245s7h5DUEd_",
        "outputId": "b8ed8ff8-055f-47b3-99ee-492352aadcb0"
      },
      "execution_count": null,
      "outputs": [
        {
          "output_type": "stream",
          "name": "stdout",
          "text": [
            "[(1, 2), (1, 3), (1, 4), (2, 3), (2, 4), (3, 4)]\n"
          ]
        }
      ]
    },
    {
      "cell_type": "markdown",
      "source": [
        "# **클래스:**"
      ],
      "metadata": {
        "id": "9zbQduP4YYp6"
      }
    },
    {
      "cell_type": "code",
      "source": [
        "class SimpleGradebook:\n",
        "  def __init__(self):\n",
        "    self._grades ={}\n",
        "\n",
        "  def add_student(self, name):\n",
        "    self._grades[name]=[]\n",
        "\n",
        "  def report_grade(self, name, score):\n",
        "    self._grades[name].append(score)\n",
        "\n",
        "  def average_grade(self, name):\n",
        "    grades = self._grades[name]\n",
        "    return sum(grades)/len(grades)\n",
        "\n"
      ],
      "metadata": {
        "id": "Hf0-6hU7a8LB"
      },
      "execution_count": null,
      "outputs": []
    },
    {
      "cell_type": "code",
      "source": [
        "# 위 클래스는 쉽게 사용할 수 있다.\n",
        "book = SimpleGradebook()\n",
        "book.add_student('아이작뉴턴')\n",
        "book.report_grade('아이작뉴턴', 90)\n",
        "book.report_grade('아이작뉴턴', 95)\n",
        "book.report_grade('아이작뉴턴', 85)\n",
        "\n",
        "print(book.average_grade('아이작뉴턴'))"
      ],
      "metadata": {
        "colab": {
          "base_uri": "https://localhost:8080/"
        },
        "id": "cTnQ8Ze7Lzcs",
        "outputId": "2d3374aa-0008-4f35-c376-51c7ea2963a5"
      },
      "execution_count": null,
      "outputs": [
        {
          "output_type": "stream",
          "name": "stdout",
          "text": [
            "90.0\n"
          ]
        }
      ]
    },
    {
      "cell_type": "markdown",
      "source": [
        "## 비공개 애트리뷰트보다는 공개 애트리뷰트를 사용하라.\n",
        "\n",
        "파이썬의 클래스의 애트리뷰트에 대한 가시성은 public와 private, 두 가지밖에 업가.\n"
      ],
      "metadata": {
        "id": "c-41ETdcMi-E"
      }
    },
    {
      "cell_type": "code",
      "source": [
        "class MyObject:\n",
        "  def __init__(self):\n",
        "    self.public_field=5\n",
        "    self.__private_field=10 #프라이빗 필드는 언더바 두 개 __를 쓴다.\n",
        "\n",
        "  def get_private_field(self):\n",
        "    return self.__private_field\n",
        "\n",
        "## 객체 뒤에 점 연산자를 붙이면 공개 속성에 접근할 수 있다.\n",
        "foo = MyObject()\n",
        "assert foo.public_field == 5\n",
        "assert foo.get_private_field() == 10 # 비공개 필드를 포함하는 클래스 안에 있는 메서드에서는 해당 필드에 직접 접근 가능\n",
        "# 하지만 클래스 외부에서 비공개 필드로 접근하는 것은 불가능!\n",
        "#foo.__pirvate_field"
      ],
      "metadata": {
        "id": "XR5UaDScrCi7"
      },
      "execution_count": null,
      "outputs": []
    },
    {
      "cell_type": "markdown",
      "source": [],
      "metadata": {
        "id": "tgalO2dDsCb5"
      }
    },
    {
      "cell_type": "code",
      "source": [
        "class MyOtherObject:\n",
        "  def __init__(self):\n",
        "    self.__private_field = 71\n",
        "\n",
        "  @classmethod\n",
        "  def get_private_field_of_instance(cls, instance):\n",
        "    return instance.__private_field\n",
        "\n",
        "bar = MyOtherObject()\n",
        "assert MyOtherObject.get_private_field_of_instance(bar)==71"
      ],
      "metadata": {
        "id": "5R50_26or9lQ"
      },
      "execution_count": null,
      "outputs": []
    },
    {
      "cell_type": "code",
      "source": [
        "# 하위 클래스는 부모 클래스의 비공개 필드에 접근할 수 없다.\n",
        "class MyParentObject:\n",
        "  def __init__(self):\n",
        "    self.__private_field = 71\n",
        "\n",
        "class MyChildObject(MyParentObject):\n",
        "  def get_private_field(self):\n",
        "    return self.__private_field\n",
        "\n",
        "baz = MyChildObject()\n",
        "baz.get_private_field()"
      ],
      "metadata": {
        "colab": {
          "base_uri": "https://localhost:8080/",
          "height": 322
        },
        "id": "Drzmv4DUuNHx",
        "outputId": "fa5e9316-5c8a-48e4-c3ba-cc13ac4ebe1e"
      },
      "execution_count": null,
      "outputs": [
        {
          "output_type": "error",
          "ename": "AttributeError",
          "evalue": "ignored",
          "traceback": [
            "\u001b[0;31m---------------------------------------------------------------------------\u001b[0m",
            "\u001b[0;31mAttributeError\u001b[0m                            Traceback (most recent call last)",
            "\u001b[0;32m<ipython-input-14-bd24f2303fdd>\u001b[0m in \u001b[0;36m<module>\u001b[0;34m\u001b[0m\n\u001b[1;32m      9\u001b[0m \u001b[0;34m\u001b[0m\u001b[0m\n\u001b[1;32m     10\u001b[0m \u001b[0mbaz\u001b[0m \u001b[0;34m=\u001b[0m \u001b[0mMyChildObject\u001b[0m\u001b[0;34m(\u001b[0m\u001b[0;34m)\u001b[0m\u001b[0;34m\u001b[0m\u001b[0;34m\u001b[0m\u001b[0m\n\u001b[0;32m---> 11\u001b[0;31m \u001b[0mbaz\u001b[0m\u001b[0;34m.\u001b[0m\u001b[0mget_private_field\u001b[0m\u001b[0;34m(\u001b[0m\u001b[0;34m)\u001b[0m\u001b[0;34m\u001b[0m\u001b[0;34m\u001b[0m\u001b[0m\n\u001b[0m",
            "\u001b[0;32m<ipython-input-14-bd24f2303fdd>\u001b[0m in \u001b[0;36mget_private_field\u001b[0;34m(self)\u001b[0m\n\u001b[1;32m      6\u001b[0m \u001b[0;32mclass\u001b[0m \u001b[0mMyChildObject\u001b[0m\u001b[0;34m(\u001b[0m\u001b[0mMyParentObject\u001b[0m\u001b[0;34m)\u001b[0m\u001b[0;34m:\u001b[0m\u001b[0;34m\u001b[0m\u001b[0;34m\u001b[0m\u001b[0m\n\u001b[1;32m      7\u001b[0m   \u001b[0;32mdef\u001b[0m \u001b[0mget_private_field\u001b[0m\u001b[0;34m(\u001b[0m\u001b[0mself\u001b[0m\u001b[0;34m)\u001b[0m\u001b[0;34m:\u001b[0m\u001b[0;34m\u001b[0m\u001b[0;34m\u001b[0m\u001b[0m\n\u001b[0;32m----> 8\u001b[0;31m     \u001b[0;32mreturn\u001b[0m \u001b[0mself\u001b[0m\u001b[0;34m.\u001b[0m\u001b[0m__private_field\u001b[0m\u001b[0;34m\u001b[0m\u001b[0;34m\u001b[0m\u001b[0m\n\u001b[0m\u001b[1;32m      9\u001b[0m \u001b[0;34m\u001b[0m\u001b[0m\n\u001b[1;32m     10\u001b[0m \u001b[0mbaz\u001b[0m \u001b[0;34m=\u001b[0m \u001b[0mMyChildObject\u001b[0m\u001b[0;34m(\u001b[0m\u001b[0;34m)\u001b[0m\u001b[0;34m\u001b[0m\u001b[0;34m\u001b[0m\u001b[0m\n",
            "\u001b[0;31mAttributeError\u001b[0m: 'MyChildObject' object has no attribute '_MyChildObject__private_field'"
          ]
        }
      ]
    },
    {
      "cell_type": "markdown",
      "source": [
        "파이썬을 처음 사용하는 많은 프로그래머가 하위 클래스나 클래스 외부에서 사용하면 안 되는 내부 API를 표현하기 위해 비공개 필드를 사용한다.\n"
      ],
      "metadata": {
        "id": "nfo86h4nu3O9"
      }
    },
    {
      "cell_type": "code",
      "source": [
        "class MyStringClass:\n",
        "  def __init__(self, value):\n",
        "    self.__value = value\n",
        "\n",
        "  def get_value(self):\n",
        "    return str(self.__value)\n",
        "\n",
        "foo = MyStringClass(5)\n",
        "assert foo.get_value() == '5'\n"
      ],
      "metadata": {
        "id": "3owInfz6wFVv"
      },
      "execution_count": null,
      "outputs": []
    },
    {
      "cell_type": "markdown",
      "source": [
        "이런 접근 방법은 잘못된 것이다."
      ],
      "metadata": {
        "id": "WNpwmIOKwgOX"
      }
    },
    {
      "cell_type": "code",
      "source": [
        "class MyBaseClass:\n",
        "  def __init__(self, value):\n",
        "    self.__value = value\n",
        "\n",
        "  def get_value(self):\n",
        "    return self.__value\n",
        "\n",
        "class MyStringClass(MyBaseClass):\n",
        "  def get_value(self):\n",
        "    return str(super().get_value()) # 변경됨\n",
        "\n",
        "class MyIntegerSubClass(MyStringClass):\n",
        "  def get_value(self):\n",
        "    return int(self._MyStringClass__value)# 변경되지 않음"
      ],
      "metadata": {
        "id": "2pV7C9HMxBL7"
      },
      "execution_count": null,
      "outputs": []
    },
    {
      "cell_type": "code",
      "source": [
        "class ApiClass:\n",
        "  def __init__(self):\n",
        "    self._value = 5\n",
        "\n",
        "  def get(self):\n",
        "    return self._value\n",
        "\n",
        "class Child(ApiClass):\n",
        "  def __init__(self):\n",
        "    super().__init__()\n",
        "    self._value = 'hello' # 충돌\n",
        "\n",
        "a = Child()\n",
        "print(f'{a.get()} 와 {a._value} 는 달라야 한다.')"
      ],
      "metadata": {
        "colab": {
          "base_uri": "https://localhost:8080/"
        },
        "id": "Pg39plwmz-DK",
        "outputId": "df857a3f-978e-46b8-8cbd-e1141e9fae3e"
      },
      "execution_count": null,
      "outputs": [
        {
          "output_type": "stream",
          "name": "stdout",
          "text": [
            "hello 와 hello 는 달라야 한다.\n"
          ]
        }
      ]
    },
    {
      "cell_type": "markdown",
      "source": [
        "주로 공개 API에 속한 클래스의 경우 신경 써야 하는 부분이다.   \n",
        "이런 문제가 발생할 위험성을 줄이려면, 부모 클래스 쪽에서 자식 클래스의 애트리뷰트 이름이 자신의 애트리뷰트 이름과 겹티는 일을 방지하기 위해 비공개 애트리뷰트를 사용할 수 있다.  "
      ],
      "metadata": {
        "id": "myfX5jCd0sCM"
      }
    },
    {
      "cell_type": "code",
      "source": [
        "class ApiClass:\n",
        "  def __init__(self):\n",
        "    self.__value = 5 # 밑줄 두 개\n",
        "\n",
        "  def get(self):\n",
        "    return self.__value # 밑줄 두 개\n",
        "\n",
        "class Child(ApiClass):\n",
        "  def __init__(self):\n",
        "    super().__init__()\n",
        "    self._value = 'hello' # OK\n",
        "\n",
        "a = Child()/\n",
        "print(f'{a.get()}와 {a._value}는 달라야 한다.')"
      ],
      "metadata": {
        "colab": {
          "base_uri": "https://localhost:8080/"
        },
        "id": "cDAmJA4jQLE6",
        "outputId": "507281f5-8753-4684-8e22-508f6389dfbb"
      },
      "execution_count": null,
      "outputs": [
        {
          "output_type": "stream",
          "name": "stdout",
          "text": [
            "5와 hello는 달라야 한다.\n"
          ]
        }
      ]
    },
    {
      "cell_type": "markdown",
      "source": [
        "## 메타클래스와 애트리뷰트\n",
        "메타클래스는 파이썬의 class 문을 가로채서 클래스가 정의될 때마다 특별한 동작을 제공할 수 있다.  \n"
      ],
      "metadata": {
        "id": "zQXffzC1R_kn"
      }
    },
    {
      "cell_type": "markdown",
      "source": [
        "### 세터와 게터 매서드 대신 평번한 애트리뷰트를 사용하라.  "
      ],
      "metadata": {
        "id": "YA1B_0mcY0dA"
      }
    },
    {
      "cell_type": "code",
      "source": [
        "class Resistor:\n",
        "  def __init__(self, ohms):\n",
        "    self.ohms = ohms\n",
        "    self.voltage = 0\n",
        "    self.current = 0\n",
        "\n",
        "r1 = Resistor(50e3)\n",
        "print(r1.ohms)\n",
        "r1.ohms = 10e3\n",
        "print(r1.ohms)"
      ],
      "metadata": {
        "colab": {
          "base_uri": "https://localhost:8080/"
        },
        "id": "aSCdU-SBY50K",
        "outputId": "a6399fd1-c108-4675-a381-95f795d63e9c"
      },
      "execution_count": null,
      "outputs": [
        {
          "output_type": "stream",
          "name": "stdout",
          "text": [
            "50000.0\n",
            "10000.0\n"
          ]
        }
      ]
    },
    {
      "cell_type": "code",
      "source": [
        " # 이렇게 애트리뷰트를 사용하면 필드를 제자리에서 증가시키는 등의 연산이 더 자연스럽고 명확해진다.\n",
        " r1.ohms += 5e3\n",
        " print(5e3)\n",
        " print(r1.ohms)"
      ],
      "metadata": {
        "colab": {
          "base_uri": "https://localhost:8080/"
        },
        "id": "dVNzL_lCZMtZ",
        "outputId": "2aa703a1-77f5-47ae-b39c-0b130665ce19"
      },
      "execution_count": null,
      "outputs": [
        {
          "output_type": "stream",
          "name": "stdout",
          "text": [
            "5000.0\n",
            "15000.0\n"
          ]
        }
      ]
    },
    {
      "cell_type": "markdown",
      "source": [
        "나중에 애트리뷰트가 설정될 때 특별한 기능을 수행해야 한다면, 애트리뷰트를 @propety 데코레이터를 사용해 함수 데코레이터를 정의하라."
      ],
      "metadata": {
        "id": "e0vofCOzZ6sD"
      }
    },
    {
      "cell_type": "code",
      "source": [
        "class VoltageResistance(Resistor):\n",
        "  def __init__(self, ohms):\n",
        "    super().__init__(ohms)\n",
        "    self._voltage = 0\n",
        "\n",
        "  @property\n",
        "  def voltage(self):\n",
        "    return self._voltage\n",
        "\n",
        "  @voltage.setter\n",
        "  def voltage(self, voltage):\n",
        "    self._voltage = voltage\n",
        "    self.current = self._voltage / self.ohms\n",
        "\n",
        "# 이제 voltage 프로퍼티를 대입하면 voltage 세터 메서드가 호출되고, 이 메서드는 객체의 current애트리뷰트를 변경된 전압 값에 맞춰 갱신한다.\n",
        "\n",
        "r2 = VoltageResistance(1e3)\n",
        "print(f'이전: {r2.current:.2f} 암페어')\n",
        "\n",
        "r2.voltage = 10\n",
        "print(f'이후: {r2.current:.2f} 암페어')"
      ],
      "metadata": {
        "colab": {
          "base_uri": "https://localhost:8080/"
        },
        "id": "MiNKGFbTbT2n",
        "outputId": "c71fa27a-e60b-4be4-d22e-e017b5b10732"
      },
      "execution_count": null,
      "outputs": [
        {
          "output_type": "stream",
          "name": "stdout",
          "text": [
            "이전: 0.00 암페어\n",
            "이후: 0.01 암페어\n"
          ]
        }
      ]
    },
    {
      "cell_type": "markdown",
      "source": [
        "# 동시성과 병렬성\n"
      ],
      "metadata": {
        "id": "3ae5Yd9pcxOn"
      }
    },
    {
      "cell_type": "markdown",
      "source": [
        "### 자식 프로세스를 관리하기 위해 subprocess를 사용하라."
      ],
      "metadata": {
        "id": "5HlzRRR2ftZe"
      }
    },
    {
      "cell_type": "code",
      "source": [
        "import subprocess\n",
        "\n",
        "result = subprocess.run(['echo', '자식 프로세스가 보내는 인사!'], capture_output= True,\n",
        "                        encoding='utf-8')\n",
        "result.check_returncode() # 예외가 발생하지 않으면 문제없이 잘 종료한 것이다.\n",
        "print(result.stdout)"
      ],
      "metadata": {
        "colab": {
          "base_uri": "https://localhost:8080/"
        },
        "id": "meVbFKumf3vj",
        "outputId": "01ad706a-0e55-482c-d572-86aeb0cbe928"
      },
      "execution_count": null,
      "outputs": [
        {
          "output_type": "stream",
          "name": "stdout",
          "text": [
            "자식 프로세스가 보내는 인사!\n",
            "\n"
          ]
        }
      ]
    },
    {
      "cell_type": "markdown",
      "source": [
        "# 테스트와 디버깅\n"
      ],
      "metadata": {
        "id": "1EOPXfeqgOTd"
      }
    },
    {
      "cell_type": "markdown",
      "source": [
        "## 디버깅 출력에는 repr문자열을 사용하라.\n",
        "print 함수와 f-문자열, logging 내장 모듈을 사용해 출력을 만들면 긴 출력이 생긴다.   \n",
        "문제는 어떤 값을 사람이 읽을 수 있는 형식의 문자열로 바꿔도 이 값의 실제 타입과 구체적인 구성을 명확히 알기 어렵다.  \n",
        "그래서 repr을 사용하여  객체의 출력 가능한  표현으로 반환한다."
      ],
      "metadata": {
        "id": "LIzVl0ifntDZ"
      }
    },
    {
      "cell_type": "code",
      "source": [
        "a = '\\x07'\n",
        "print(a)\n",
        "print(repr(a))"
      ],
      "metadata": {
        "colab": {
          "base_uri": "https://localhost:8080/"
        },
        "id": "4bSbBjvoogpW",
        "outputId": "a284c9c7-6bfe-428c-efdc-a3c1484cc2e4"
      },
      "execution_count": null,
      "outputs": [
        {
          "output_type": "stream",
          "name": "stdout",
          "text": [
            "\u0007\n",
            "'\\x07'\n"
          ]
        }
      ]
    },
    {
      "cell_type": "markdown",
      "source": [
        "# 협업\n",
        "## 커뮤니티에서 만든 모듈을 어디서 찾을 수 있느닞 알아두라."
      ],
      "metadata": {
        "id": "aFLmsuwookab"
      }
    },
    {
      "cell_type": "markdown",
      "source": [
        "## 모든 함수, 클래스, 모듈에 독스트링을 작성하라.\n"
      ],
      "metadata": {
        "id": "CUUcIoeqsfuR"
      }
    },
    {
      "cell_type": "code",
      "source": [
        "def palindrome(word):\n",
        "  \"\"\"주어진 단어가 회문인 경우 True를 반환한다.\"\"\"\n",
        "  return word == word[::-1]\n",
        "\n",
        "assert palindrome('tacotat')\n",
        "assert not palindrome('banana')\n"
      ],
      "metadata": {
        "colab": {
          "base_uri": "https://localhost:8080/",
          "height": 218
        },
        "id": "U4MLPxvVstEu",
        "outputId": "c9ba5066-9d15-4bfb-f53a-a408a9f2c757"
      },
      "execution_count": null,
      "outputs": [
        {
          "output_type": "error",
          "ename": "AssertionError",
          "evalue": "ignored",
          "traceback": [
            "\u001b[0;31m---------------------------------------------------------------------------\u001b[0m",
            "\u001b[0;31mAssertionError\u001b[0m                            Traceback (most recent call last)",
            "\u001b[0;32m<ipython-input-24-cc2a3400c5c0>\u001b[0m in \u001b[0;36m<module>\u001b[0;34m\u001b[0m\n\u001b[1;32m      3\u001b[0m   \u001b[0;32mreturn\u001b[0m \u001b[0mword\u001b[0m \u001b[0;34m==\u001b[0m \u001b[0mword\u001b[0m\u001b[0;34m[\u001b[0m\u001b[0;34m:\u001b[0m\u001b[0;34m:\u001b[0m\u001b[0;34m-\u001b[0m\u001b[0;36m1\u001b[0m\u001b[0;34m]\u001b[0m\u001b[0;34m\u001b[0m\u001b[0;34m\u001b[0m\u001b[0m\n\u001b[1;32m      4\u001b[0m \u001b[0;34m\u001b[0m\u001b[0m\n\u001b[0;32m----> 5\u001b[0;31m \u001b[0;32massert\u001b[0m \u001b[0mpalindrome\u001b[0m\u001b[0;34m(\u001b[0m\u001b[0;34m'tacotat'\u001b[0m\u001b[0;34m)\u001b[0m\u001b[0;34m\u001b[0m\u001b[0;34m\u001b[0m\u001b[0m\n\u001b[0m\u001b[1;32m      6\u001b[0m \u001b[0;32massert\u001b[0m \u001b[0;32mnot\u001b[0m \u001b[0mpalindrome\u001b[0m\u001b[0;34m(\u001b[0m\u001b[0;34m'banana'\u001b[0m\u001b[0;34m)\u001b[0m\u001b[0;34m\u001b[0m\u001b[0;34m\u001b[0m\u001b[0m\n",
            "\u001b[0;31mAssertionError\u001b[0m: "
          ]
        }
      ]
    },
    {
      "cell_type": "markdown",
      "source": [
        "파이썬에서 독스트링을 가져오려면 __doc__특별 애트리뷰트를 사용하면 된다.\n"
      ],
      "metadata": {
        "id": "SErmLYbLs-LX"
      }
    },
    {
      "cell_type": "code",
      "source": [
        "print(repr(palindrome.__doc__))"
      ],
      "metadata": {
        "colab": {
          "base_uri": "https://localhost:8080/"
        },
        "id": "1jRpwM0mtNlH",
        "outputId": "fa19ffa8-47c6-4053-a97b-95e6ad64b08e"
      },
      "execution_count": null,
      "outputs": [
        {
          "output_type": "stream",
          "name": "stdout",
          "text": [
            "'주어진 단어가 회문인 경우 True를 반환한다.'\n"
          ]
        }
      ]
    },
    {
      "cell_type": "markdown",
      "source": [
        "#### 모듈 문서화하기\n",
        "#### 클래스 문서화하기\n",
        "#### 함수 문서화하기"
      ],
      "metadata": {
        "id": "1gq3P-kStQsM"
      }
    }
  ]
}